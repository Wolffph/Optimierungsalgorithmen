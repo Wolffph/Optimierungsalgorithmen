{
 "cells": [
  {
   "cell_type": "code",
   "execution_count": 18,
   "id": "rolled-algeria",
   "metadata": {},
   "outputs": [],
   "source": [
    "import matplotlib.pyplot as plt\n",
    "import numpy as np\n",
    "import pandas as pd"
   ]
  },
  {
   "cell_type": "code",
   "execution_count": 19,
   "id": "imported-provider",
   "metadata": {},
   "outputs": [],
   "source": [
    "data = pd.read_csv(\"../../data.csv\", header=None, delimiter=\";\")"
   ]
  },
  {
   "cell_type": "code",
   "execution_count": 20,
   "id": "adapted-reserve",
   "metadata": {},
   "outputs": [],
   "source": [
    "xValues = np.fromstring( data.iloc[0].values.tolist()[0], dtype=np.int, sep=',' )\n",
    "yValues = np.fromstring( data.iloc[1].values.tolist()[0], dtype=np.int, sep=',' )"
   ]
  },
  {
   "cell_type": "code",
   "execution_count": 21,
   "id": "twenty-constraint",
   "metadata": {},
   "outputs": [
    {
     "data": {
      "image/png": "[encoded data removed]",
      "text/plain": [
       "<Figure size 432x288 with 1 Axes>"
      ]
     },
     "metadata": {
      "needs_background": "light"
     },
     "output_type": "display_data"
    }
   ],
   "source": [
    "for i in range(0, len(xValues), 4):\n",
    "    \n",
    "    plt.plot([xValues[i], xValues[i+1]], [yValues[i], yValues[i]], 'b', linewidth=0.3) # lower edges\n",
    "    \n",
    "    plt.plot([xValues[i+2], xValues[i+3]], [yValues[i+2], yValues[i+3]], 'b', linewidth=0.3) # upper edges\n",
    "    \n",
    "    plt.plot([xValues[i], xValues[i]], [yValues[i], yValues[i+2]], 'b', linewidth=0.3) # left edges\n",
    "\n",
    "    plt.plot([xValues[i+1], xValues[i+1]], [yValues[i], yValues[i+2]], 'b', linewidth=0.3) # right edges\n",
    "    \n",
    "plt.show()\n",
    "plt.savefig(\"../../graph.png\")"
   ]
  },
  {
   "cell_type": "code",
   "execution_count": null,
   "id": "following-detail",
   "metadata": {},
   "outputs": [],
   "source": []
  },
  {
   "cell_type": "code",
   "execution_count": null,
   "id": "egyptian-poison",
   "metadata": {},
   "outputs": [],
   "source": []
  }
 ],
 "metadata": {
  "kernelspec": {
   "display_name": "Python 3",
   "language": "python",
   "name": "python3"
  },
  "language_info": {
   "codemirror_mode": {
    "name": "ipython",
    "version": 3
   },
   "file_extension": ".py",
   "mimetype": "text/x-python",
   "name": "python",
   "nbconvert_exporter": "python",
   "pygments_lexer": "ipython3",
   "version": "3.8.8"
  }
 },
 "nbformat": 4,
 "nbformat_minor": 5
}